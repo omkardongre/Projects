{
 "cells": [
  {
   "cell_type": "code",
   "execution_count": 1,
   "metadata": {},
   "outputs": [],
   "source": [
    "import pandas as pd \n",
    "import matplotlib.pyplot as plt"
   ]
  },
  {
   "cell_type": "code",
   "execution_count": null,
   "metadata": {},
   "outputs": [],
   "source": []
  },
  {
   "cell_type": "code",
   "execution_count": 44,
   "metadata": {
    "scrolled": true
   },
   "outputs": [],
   "source": [
    "'''\n",
    "\n",
    "def avg_data_2013():\n",
    "    temp_i=0\n",
    "    average=[]\n",
    "    for rows in pd.read_csv('Data/AQI/aqi2013.csv',chunksize=24):\n",
    "        add_var=0\n",
    "        avg=0.0\n",
    "        data=[]\n",
    "        df=pd.DataFrame(data=rows)\n",
    "        for index,row in df.iterrows():\n",
    "            data.append(row['PM2.5'])\n",
    "        for i in data:\n",
    "            if type(i) is float or type(i) is int:\n",
    "                add_var=add_var+i\n",
    "            elif type(i) is str:\n",
    "                if i!='NoData' and i!='PwrFail' and i!='---' and i!='InVld':\n",
    "                    temp=float(i)\n",
    "                    add_var=add_var+temp\n",
    "        avg=add_var/24\n",
    "        temp_i=temp_i+1\n",
    "        \n",
    "        average.append(avg)\n",
    "    return average\n",
    "'''\n",
    "\n",
    "temp_i=0\n",
    "average=[]\n",
    "#for rows in pd.read_csv('Data/AQI/aqi2013.csv'):\n",
    "data =   pd.read_csv('Data/AQI/aqi2013.csv')"
   ]
  },
  {
   "cell_type": "code",
   "execution_count": null,
   "metadata": {},
   "outputs": [],
   "source": [
    "\n",
    "\n"
   ]
  },
  {
   "cell_type": "code",
   "execution_count": null,
   "metadata": {},
   "outputs": [],
   "source": []
  },
  {
   "cell_type": "code",
   "execution_count": 85,
   "metadata": {},
   "outputs": [],
   "source": [
    "def avg_data(Year):\n",
    "    \n",
    "    temp_i=0\n",
    "    average=[]\n",
    "    #data is on hourly basis so calculate average of each day 24\n",
    "    for rows in pd.read_csv('Data/AQI/aqi{}.csv'.format(Year),chunksize=24):\n",
    "        add_val=0\n",
    "        avg=0.0\n",
    "        data=[]\n",
    "\n",
    "        # only PM2.5 column is stored in data\n",
    "        for index,row in rows.iterrows():\n",
    "            data.append(row['PM2.5'])\n",
    "\n",
    "        #calculating average per day i.e 24 rows \n",
    "        for value in data:\n",
    "            if type(value) is float or type(value) is int:\n",
    "                add_val+=value\n",
    "\n",
    "            elif type(value) is str:\n",
    "                if value not  in ['NoData','PwrFail','---','InVld']:\n",
    "                    add_val+=float(value)\n",
    "\n",
    "        avg=add_val/24 \n",
    "        average.append(avg)\n",
    "        temp_i+=1\n",
    "    \n",
    "    return average \n",
    "\n",
    "\n",
    "    \n"
   ]
  },
  {
   "cell_type": "code",
   "execution_count": 75,
   "metadata": {},
   "outputs": [
    {
     "ename": "SyntaxError",
     "evalue": "invalid syntax (<ipython-input-75-fe0fed03f5c2>, line 12)",
     "output_type": "error",
     "traceback": [
      "\u001b[0;36m  File \u001b[0;32m\"<ipython-input-75-fe0fed03f5c2>\"\u001b[0;36m, line \u001b[0;32m12\u001b[0m\n\u001b[0;31m    lst_\"{}\".format(year) = [1]\u001b[0m\n\u001b[0m           ^\u001b[0m\n\u001b[0;31mSyntaxError\u001b[0m\u001b[0;31m:\u001b[0m invalid syntax\n"
     ]
    }
   ],
   "source": [
    "\n",
    "if __name__==\"__main__\":\n",
    "\n",
    "    lst_2013=[]\n",
    "    lst_2014=[]\n",
    "    lst_2015=[]\n",
    "    lst_2016=[]\n",
    "    lst_2017=[]\n",
    "    lst_2018=[]\n",
    "    lst_2019=[]\n",
    "    \n",
    "    for year in range(2013,2020):\n",
    "        lst_\"{}\".format(year) = [1]"
   ]
  },
  {
   "cell_type": "code",
   "execution_count": 86,
   "metadata": {},
   "outputs": [],
   "source": [
    "if __name__==\"__main__\":\n",
    "   \n",
    "    \n",
    "    lst_2013=avg_data(2013)\n",
    "    lst_2014=avg_data(2014)\n",
    "    lst_2017=avg_data(2015)\n",
    "    lst_2018=avg_data(2016)\n",
    "    lst_2019=avg_data(2017)\n"
   ]
  },
  {
   "cell_type": "code",
   "execution_count": 88,
   "metadata": {},
   "outputs": [
    {
     "data": {
      "text/plain": [
       "365"
      ]
     },
     "execution_count": 88,
     "metadata": {},
     "output_type": "execute_result"
    }
   ],
   "source": [
    "len(lst_2013)"
   ]
  }
 ],
 "metadata": {
  "kernelspec": {
   "display_name": "Python 3",
   "language": "python",
   "name": "python3"
  },
  "language_info": {
   "codemirror_mode": {
    "name": "ipython",
    "version": 3
   },
   "file_extension": ".py",
   "mimetype": "text/x-python",
   "name": "python",
   "nbconvert_exporter": "python",
   "pygments_lexer": "ipython3",
   "version": "3.7.4"
  }
 },
 "nbformat": 4,
 "nbformat_minor": 2
}
