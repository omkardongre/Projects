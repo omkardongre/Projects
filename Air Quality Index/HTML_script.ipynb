{
 "cells": [
  {
   "cell_type": "code",
   "execution_count": 12,
   "metadata": {},
   "outputs": [],
   "source": [
    "import os\n",
    "import time\n",
    "import requests #download the whole html\n",
    "import sys"
   ]
  },
  {
   "cell_type": "code",
   "execution_count": 13,
   "metadata": {},
   "outputs": [
    {
     "name": "stdout",
     "output_type": "stream",
     "text": [
      "/home/om/Air Quality Index\n",
      "Time Taken 10.067201375961304\n"
     ]
    }
   ],
   "source": [
    "\n",
    "def retrival_html():\n",
    "    path=os.getcwd()\n",
    "    print(path)\n",
    "    for year in range(2013,2014):\n",
    "\n",
    "        for month in range(1,6):\n",
    "            if month<10:\n",
    "                url=\"https://en.tutiempo.net/climate/0{}-{}/ws-432950.html\".format(month,year)\n",
    "            else:\n",
    "                 url=\"https://en.tutiempo.net/climate/{}-{}/ws-432950.html\".format(month,year)\n",
    "            \n",
    "            texts=requests.get(url) # get the whole html\n",
    "            # html text contain some unknown characters so need to convert into some standard format\n",
    "            text_utf=texts.text.encode('utf=8') \n",
    "            if not os.path.exists('{}/Html_Data/{}'.format(path,year)):\n",
    "                os.makedirs('{}/Html_Data/{}'.format(path,year))\n",
    "                \n",
    "            # with -> ensuring that a resource is properly released after use      \n",
    "            with open('{}/Html_Data/{}/{}'.format(path,year,month),'wb') as output:\n",
    "                output.write(text_utf)\n",
    "            \n",
    "            sys.stdout.flush()                \n",
    "    \n",
    "\n",
    "if __name__==\"__main__\":\n",
    "    start_time=time.time()\n",
    "    retrival_html()\n",
    "    stop_time=time.time()\n",
    "    print(\"Time Taken {}\".format(stop_time-start_time))\n",
    "    \n",
    "     \n"
   ]
  },
  {
   "cell_type": "code",
   "execution_count": null,
   "metadata": {},
   "outputs": [],
   "source": []
  },
  {
   "cell_type": "code",
   "execution_count": 14,
   "metadata": {},
   "outputs": [
    {
     "name": "stdout",
     "output_type": "stream",
     "text": [
      "0\n",
      "1\n",
      "2\n",
      "3\n",
      "4\n"
     ]
    }
   ],
   "source": [
    "import time\n",
    "import sys\n",
    "\n",
    "for i in range(5):\n",
    "    print(i),\n",
    "    #sys.stdout.flush()\n",
    "    time.sleep(1)"
   ]
  },
  {
   "cell_type": "code",
   "execution_count": 15,
   "metadata": {},
   "outputs": [
    {
     "name": "stdout",
     "output_type": "stream",
     "text": [
      "0\n",
      "1\n",
      "2\n",
      "3\n",
      "4\n"
     ]
    }
   ],
   "source": [
    "import time\n",
    "import sys\n",
    "\n",
    "for i in range(5):\n",
    "    print(i),\n",
    "    sys.stdout.flush()\n",
    "    time.sleep(1)"
   ]
  }
 ],
 "metadata": {
  "kernelspec": {
   "display_name": "Python 3",
   "language": "python",
   "name": "python3"
  },
  "language_info": {
   "codemirror_mode": {
    "name": "ipython",
    "version": 3
   },
   "file_extension": ".py",
   "mimetype": "text/x-python",
   "name": "python",
   "nbconvert_exporter": "python",
   "pygments_lexer": "ipython3",
   "version": "3.7.4"
  }
 },
 "nbformat": 4,
 "nbformat_minor": 2
}
