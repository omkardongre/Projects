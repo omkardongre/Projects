{
 "cells": [
  {
   "cell_type": "code",
   "execution_count": 2,
   "metadata": {},
   "outputs": [],
   "source": [
    "def show(img):\n",
    "    cv2.imshow(\"Input\",img)\n",
    "    cv2.waitKey(0); \n",
    "    cv2.destroyAllWindows()"
   ]
  },
  {
   "cell_type": "code",
   "execution_count": null,
   "metadata": {},
   "outputs": [],
   "source": []
  },
  {
   "cell_type": "code",
   "execution_count": null,
   "metadata": {},
   "outputs": [],
   "source": [
    "#converting BGR to HSV\n",
    "hsv = cv2.cvtColor(img, cv2.COLOR_BGR2HSV)\n",
    "show(hsv)"
   ]
  },
  {
   "cell_type": "code",
   "execution_count": null,
   "metadata": {},
   "outputs": [],
   "source": []
  },
  {
   "cell_type": "code",
   "execution_count": 5,
   "metadata": {},
   "outputs": [
    {
     "name": "stdout",
     "output_type": "stream",
     "text": [
      "588\n",
      "1063\n",
      "3\n"
     ]
    }
   ],
   "source": [
    "#for understanding the image pixel format\n",
    "print(len(img))\n",
    "print(len(img[0]))\n",
    "print(len(img[0][0]))\n",
    "#print(len(img[0][0][0]))"
   ]
  },
  {
   "cell_type": "code",
   "execution_count": 6,
   "metadata": {},
   "outputs": [],
   "source": [
    "# calculating Smax and Smin \n",
    "Smax=0\n",
    "Smin=0\n",
    "for row in hsv:\n",
    "    for pixel in row:\n",
    "        if Smax<pixel[1]:\n",
    "            Smax=pixel[1]\n",
    "            \n",
    "        if Smin>pixel[1]:\n",
    "            Smin=pixel[1]\n",
    "            \n",
    "            \n",
    "            \n",
    "        \n",
    "    "
   ]
  },
  {
   "cell_type": "code",
   "execution_count": 7,
   "metadata": {},
   "outputs": [],
   "source": [
    "# calculating Hmax and Hmin \n",
    "Hmax=0\n",
    "Hmin=0\n",
    "for row in hsv:\n",
    "    for pixel in row:\n",
    "        if Hmax<pixel[0]:\n",
    "            Hmax=pixel[0]\n",
    "            \n",
    "        if Hmin>pixel[0]:\n",
    "            Hmin=pixel[0]\n",
    "            \n",
    "            \n",
    "      "
   ]
  },
  {
   "cell_type": "code",
   "execution_count": null,
   "metadata": {},
   "outputs": [],
   "source": []
  },
  {
   "cell_type": "code",
   "execution_count": 11,
   "metadata": {},
   "outputs": [],
   "source": [
    "\n"
   ]
  },
  {
   "cell_type": "code",
   "execution_count": 8,
   "metadata": {},
   "outputs": [],
   "source": [
    "#for HSV IMAGE \n",
    "\n",
    "\n",
    "#blurring to remove high frequency component\n",
    "imgBlurred = cv2.GaussianBlur(hsv, (5,5), 0)\n",
    "show(imgBlurred)\n",
    "\n",
    "#color to greyscale image\n",
    "gray = cv2.cvtColor(imgBlurred, cv2.COLOR_BGR2GRAY)\n",
    "show(gray)\n",
    "\n",
    "#sobel edge detection \n",
    "sobelx = cv2.Sobel(gray,cv2.CV_8U,1,0,ksize=3)\n",
    "show(sobelx)\n",
    "\n"
   ]
  },
  {
   "cell_type": "code",
   "execution_count": 11,
   "metadata": {},
   "outputs": [],
   "source": []
  },
  {
   "cell_type": "code",
   "execution_count": null,
   "metadata": {},
   "outputs": [],
   "source": []
  },
  {
   "cell_type": "code",
   "execution_count": 15,
   "metadata": {},
   "outputs": [],
   "source": [
    "#for color IMAGE\n",
    "\n",
    "\n",
    "#blurring to remove high frequency component\n",
    "imgBlurred = cv2.GaussianBlur(img, (5,5), 0)\n",
    "show(imgBlurred)\n",
    "\n",
    "#color to greyscale image\n",
    "gray = cv2.cvtColor(imgBlurred, cv2.COLOR_BGR2GRAY)\n",
    "show(gray)\n",
    "\n",
    "#sobel edge detection \n",
    "sobelx = cv2.Sobel(gray,cv2.CV_8U,1,0,ksize=3)\n",
    "show(sobelx)\n",
    "\n"
   ]
  },
  {
   "cell_type": "code",
   "execution_count": null,
   "metadata": {},
   "outputs": [],
   "source": []
  },
  {
   "cell_type": "code",
   "execution_count": null,
   "metadata": {},
   "outputs": [],
   "source": [
    "\n"
   ]
  },
  {
   "cell_type": "code",
   "execution_count": null,
   "metadata": {},
   "outputs": [],
   "source": []
  },
  {
   "cell_type": "code",
   "execution_count": 18,
   "metadata": {},
   "outputs": [],
   "source": []
  },
  {
   "cell_type": "code",
   "execution_count": null,
   "metadata": {},
   "outputs": [],
   "source": []
  },
  {
   "cell_type": "code",
   "execution_count": 17,
   "metadata": {},
   "outputs": [],
   "source": [
    "#otsu thresolding\n",
    "ret2,threshold_img = cv2.threshold(sobelx,0,255,cv2.THRESH_BINARY+cv2.THRESH_OTSU)\n",
    "show(threshold_img)\n"
   ]
  },
  {
   "cell_type": "code",
   "execution_count": 20,
   "metadata": {},
   "outputs": [
    {
     "data": {
      "image/png": "[encoded data removed]",
      "text/plain": [
       "<Figure size 432x288 with 1 Axes>"
      ]
     },
     "metadata": {
      "needs_background": "light"
     },
     "output_type": "display_data"
    }
   ],
   "source": [
    "#biomodal image so better to use Otsu Thresolding\n",
    "plt.hist(threshold_img.ravel(),256,[0,256]); plt.show()"
   ]
  },
  {
   "cell_type": "code",
   "execution_count": null,
   "metadata": {},
   "outputs": [],
   "source": []
  },
  {
   "cell_type": "code",
   "execution_count": 21,
   "metadata": {},
   "outputs": [],
   "source": [
    "#adaptive thresolding\n",
    "th2 = cv2.adaptiveThreshold(sobelx,255,cv2.ADAPTIVE_THRESH_MEAN_C,\\\n",
    "            cv2.THRESH_BINARY,11,2)\n",
    "show(th2)\n",
    "th3 = cv2.adaptiveThreshold(sobelx,255,cv2.ADAPTIVE_THRESH_GAUSSIAN_C,\\\n",
    "            cv2.THRESH_BINARY,11,2)\n",
    "show(th2)"
   ]
  },
  {
   "cell_type": "code",
   "execution_count": null,
   "metadata": {},
   "outputs": [],
   "source": []
  },
  {
   "cell_type": "code",
   "execution_count": null,
   "metadata": {},
   "outputs": [],
   "source": []
  },
  {
   "cell_type": "markdown",
   "metadata": {},
   "source": []
  },
  {
   "cell_type": "code",
   "execution_count": 22,
   "metadata": {},
   "outputs": [],
   "source": [
    "element = cv2.getStructuringElement(shape=cv2.MORPH_RECT, ksize=(17, 3))\n"
   ]
  },
  {
   "cell_type": "code",
   "execution_count": null,
   "metadata": {},
   "outputs": [],
   "source": []
  },
  {
   "cell_type": "code",
   "execution_count": 23,
   "metadata": {},
   "outputs": [],
   "source": [
    "morph_img_threshold = threshold_img.copy()"
   ]
  },
  {
   "cell_type": "code",
   "execution_count": 24,
   "metadata": {},
   "outputs": [
    {
     "data": {
      "text/plain": [
       "array([[0, 0, 0, ..., 0, 0, 0],\n",
       "       [0, 0, 0, ..., 0, 0, 0],\n",
       "       [0, 0, 0, ..., 0, 0, 0],\n",
       "       ...,\n",
       "       [0, 0, 0, ..., 0, 0, 0],\n",
       "       [0, 0, 0, ..., 0, 0, 0],\n",
       "       [0, 0, 0, ..., 0, 0, 0]], dtype=uint8)"
      ]
     },
     "execution_count": 24,
     "metadata": {},
     "output_type": "execute_result"
    }
   ],
   "source": [
    "cv2.morphologyEx(src=threshold_img, op=cv2.MORPH_CLOSE, kernel=element, dst=morph_img_threshold)"
   ]
  },
  {
   "cell_type": "code",
   "execution_count": null,
   "metadata": {},
   "outputs": [],
   "source": [
    "show(morph_img_threshold)"
   ]
  },
  {
   "cell_type": "code",
   "execution_count": null,
   "metadata": {},
   "outputs": [],
   "source": []
  },
  {
   "cell_type": "code",
   "execution_count": null,
   "metadata": {},
   "outputs": [],
   "source": [
    "contours, hierarchy= cv2.findContours(morph_img_threshold,mode=cv2.RETR_EXTERNAL,method=cv2.CHAIN_APPROX_NONE)"
   ]
  },
  {
   "cell_type": "code",
   "execution_count": 35,
   "metadata": {},
   "outputs": [
    {
     "data": {
      "text/plain": [
       "119"
      ]
     },
     "execution_count": 35,
     "metadata": {},
     "output_type": "execute_result"
    }
   ],
   "source": []
  },
  {
   "cell_type": "code",
   "execution_count": null,
   "metadata": {},
   "outputs": [],
   "source": []
  },
  {
   "cell_type": "code",
   "execution_count": 41,
   "metadata": {},
   "outputs": [
    {
     "data": {
      "text/plain": [
       "array([[[245, 244, 242],\n",
       "        [245, 244, 242],\n",
       "        [245, 244, 242],\n",
       "        ...,\n",
       "        [ 14,  14,  14],\n",
       "        [ 14,  14,  14],\n",
       "        [ 14,  14,  14]],\n",
       "\n",
       "       [[245, 244, 242],\n",
       "        [245, 244, 242],\n",
       "        [245, 244, 242],\n",
       "        ...,\n",
       "        [ 14,  14,  14],\n",
       "        [ 14,  14,  14],\n",
       "        [ 14,  14,  14]],\n",
       "\n",
       "       [[245, 244, 242],\n",
       "        [245, 244, 242],\n",
       "        [245, 244, 242],\n",
       "        ...,\n",
       "        [ 14,  14,  14],\n",
       "        [ 14,  14,  14],\n",
       "        [ 14,  14,  14]],\n",
       "\n",
       "       ...,\n",
       "\n",
       "       [[161, 162, 173],\n",
       "        [160, 161, 171],\n",
       "        [159, 161, 170],\n",
       "        ...,\n",
       "        [ 14,  14,  14],\n",
       "        [ 14,  14,  14],\n",
       "        [ 14,  14,  14]],\n",
       "\n",
       "       [[162, 163, 174],\n",
       "        [160, 161, 172],\n",
       "        [159, 161, 171],\n",
       "        ...,\n",
       "        [ 14,  14,  14],\n",
       "        [ 14,  14,  14],\n",
       "        [ 14,  14,  14]],\n",
       "\n",
       "       [[207, 207, 207],\n",
       "        [207, 207, 207],\n",
       "        [207, 207, 207],\n",
       "        ...,\n",
       "        [207, 207, 207],\n",
       "        [207, 207, 207],\n",
       "        [207, 207, 207]]], dtype=uint8)"
      ]
     },
     "execution_count": 41,
     "metadata": {},
     "output_type": "execute_result"
    }
   ],
   "source": [
    "cv2.drawContours(img, contours, -1, (255,255,255), 1)"
   ]
  },
  {
   "cell_type": "code",
   "execution_count": 42,
   "metadata": {},
   "outputs": [],
   "source": [
    "show(img)"
   ]
  }
 ],
 "metadata": {
  "kernelspec": {
   "display_name": "Python 3",
   "language": "python",
   "name": "python3"
  },
  "language_info": {
   "codemirror_mode": {
    "name": "ipython",
    "version": 3
   },
   "file_extension": ".py",
   "mimetype": "text/x-python",
   "name": "python",
   "nbconvert_exporter": "python",
   "pygments_lexer": "ipython3",
   "version": "3.7.4"
  }
 },
 "nbformat": 4,
 "nbformat_minor": 2
}
