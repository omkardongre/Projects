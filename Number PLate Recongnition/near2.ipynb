{
 "cells": [
  {
   "cell_type": "code",
   "execution_count": 1,
   "metadata": {},
   "outputs": [],
   "source": [
    "def show(img):\n",
    "    cv2.imshow(\"Input\",img)\n",
    "    cv2.waitKey(0); \n",
    "    cv2.destroyAllWindows()"
   ]
  },
  {
   "cell_type": "code",
   "execution_count": 2,
   "metadata": {},
   "outputs": [],
   "source": [
    "import numpy as np\n",
    "import cv2\n",
    "from copy import deepcopy\n",
    "import matplotlib.pyplot as plt\n",
    "from PIL import Image\n",
    "#import pytesseract as tess\n"
   ]
  },
  {
   "cell_type": "code",
   "execution_count": 33,
   "metadata": {},
   "outputs": [],
   "source": [
    "\n",
    "image=cv2.imread('b3.png')\n",
    "show(image)\n",
    "img=image\n"
   ]
  },
  {
   "cell_type": "code",
   "execution_count": 34,
   "metadata": {},
   "outputs": [],
   "source": [
    "\n",
    "#img=cv2.imread('scaled_down.jpg')\n",
    "#show(img)\n",
    "\n",
    "#for color IMAGE\n",
    "#img = cv2.detailEnhance(img, 9, 10, 0.2)\n",
    "\n",
    "#blurring to remove high frequency component\n",
    "imgBlurred = cv2.GaussianBlur(img, (5,5), 0)\n",
    "show(imgBlurred)\n",
    "\n",
    "#imgBlurred = cv2.bilateralFilter(img,9,35,35)\n",
    "#show(imgBlurred)\n",
    "\n",
    "#color to greyscale image\n",
    "gray = cv2.cvtColor(imgBlurred, cv2.COLOR_BGR2GRAY)\n",
    "show(gray)\n",
    "\n",
    "\n",
    "\n",
    "\n",
    "#sobel edge detection \n",
    "sobelx = cv2.Sobel(gray,cv2.CV_8U,1,0,ksize=3)\n",
    "show(sobelx)\n",
    "\n",
    "\n",
    "#otsu thresolding\n",
    "ret2,threshold_img = cv2.threshold(sobelx,0,255,cv2.THRESH_BINARY+cv2.THRESH_OTSU)\n",
    "show(threshold_img)\n"
   ]
  },
  {
   "cell_type": "code",
   "execution_count": 37,
   "metadata": {},
   "outputs": [],
   "source": [
    "morph_img_threshold = threshold_img.copy()\n",
    "\n",
    "\n",
    "# rectangular kernel for morphological operation\n",
    "element = cv2.getStructuringElement(shape=cv2.MORPH_RECT, ksize=(20, 1))  #(20,10)\n",
    "\n",
    "#morphological operation(dilation)\n",
    "cv2.morphologyEx(src=threshold_img, op=cv2.MORPH_CLOSE, kernel=element, dst=morph_img_threshold)\n",
    "\n",
    "show(morph_img_threshold)"
   ]
  },
  {
   "cell_type": "code",
   "execution_count": 29,
   "metadata": {},
   "outputs": [],
   "source": []
  },
  {
   "cell_type": "code",
   "execution_count": 30,
   "metadata": {},
   "outputs": [],
   "source": [
    "#finding contours is like finding white object from black background.\n",
    "#contours => (x,y) corrdinates of object\n",
    "\n",
    "#Contour Approximation Method \n",
    "# https://opencv-python-tutroals.readthedocs.io/en/latest/py_tutorials/py_imgproc/py_contours/py_contours_begin/py_contours_begin.html\n",
    "# cv2.CHAIN_APPROX_NONE -all the boundary points are stored\n",
    "#cv2.CHAIN_APPROX_SIMPLE -just two end points of that line , saving the memory\n",
    "\n",
    "contours, hierarchy= cv2.findContours(morph_img_threshold,mode=cv2.RETR_EXTERNAL,method=cv2.CHAIN_APPROX_NONE)\n",
    "contours2, hierarchy= cv2.findContours(morph_img_threshold,mode=cv2.RETR_EXTERNAL,method=cv2.cv2.CHAIN_APPROX_SIMPLE)\n"
   ]
  },
  {
   "cell_type": "code",
   "execution_count": 8,
   "metadata": {},
   "outputs": [
    {
     "data": {
      "text/plain": [
       "'\\n# i is count index, cnt is coordinates of 1 whole object\\nfor i,cnt  in enumerate(contours):\\n\\n    \\n    #it is observed that for  most of image , number of coordinates number plate region lies between 300-500   \\n    if(len(cnt)>100):\\n        \\n        #https://opencv-python-tutroals.readthedocs.io/en/latest/py_tutorials/py_imgproc/py_contours/py_contour_features/py_contour_features.html#b-rotated-rectangle\\n        objectArea=cv2.minAreaRect(cnt)\\n        \\n        x, y, w, h = cv2.boundingRect(cnt)\\n\\n        license_plate = img[y:y + h, x:x + w]\\n        show(license_plate)\\n'"
      ]
     },
     "execution_count": 8,
     "metadata": {},
     "output_type": "execute_result"
    }
   ],
   "source": [
    "'''\n",
    "# i is count index, cnt is coordinates of 1 whole object\n",
    "for i,cnt  in enumerate(contours):\n",
    "\n",
    "    \n",
    "    #it is observed that for  most of image , number of coordinates number plate region lies between 300-500   \n",
    "    if(len(cnt)>100):\n",
    "        \n",
    "        #https://opencv-python-tutroals.readthedocs.io/en/latest/py_tutorials/py_imgproc/py_contours/py_contour_features/py_contour_features.html#b-rotated-rectangle\n",
    "        objectArea=cv2.minAreaRect(cnt)\n",
    "        \n",
    "        x, y, w, h = cv2.boundingRect(cnt)\n",
    "\n",
    "        license_plate = img[y:y + h, x:x + w]\n",
    "        show(license_plate)\n",
    "'''"
   ]
  },
  {
   "cell_type": "code",
   "execution_count": 31,
   "metadata": {},
   "outputs": [],
   "source": [
    "def Validation_And_RatioTest(objectArea):\n",
    "    (x,y),(width,height),angle=objectArea\n",
    "    \n",
    "    aspectRatio=0\n",
    "    if width>height:\n",
    "            aspectRatio=width/height\n",
    "    else:\n",
    "        aspectRatio=height/width\n",
    "        \n",
    "    #print(aspectRatio)\n",
    "    #return True\n",
    "\n",
    "    if aspectRatio<3 or aspectRatio>7:\n",
    "        return False\n",
    "    \n",
    "    print(aspectRatio , width,height)\n",
    "\n",
    "    return True"
   ]
  },
  {
   "cell_type": "markdown",
   "metadata": {},
   "source": [
    "    \n",
    "            \n",
    "        "
   ]
  },
  {
   "cell_type": "code",
   "execution_count": 10,
   "metadata": {},
   "outputs": [],
   "source": [
    "def width_greater_(contour):\n",
    "    \n",
    "    maxLength=contour[0][0][0]\n",
    "    minLength=contour[0][0][0]\n",
    "    \n",
    "    maxWidth=contour[0][0][1]\n",
    "    minWidth=contour[0][0][1]\n",
    "    \n",
    "    for i in contour:\n",
    "        if maxLength<i[0][0]:\n",
    "            maxLength=i[0][0]\n",
    "        \n",
    "        elif minLength>i[0][0]:\n",
    "            minLength=i[0][0]\n",
    "        \n",
    "        if maxWidth<i[0][1]:\n",
    "            maxWidth=i[0][1]\n",
    "        \n",
    "        elif minWidth>i[0][1]:\n",
    "            maxWidth=i[0][1]\n",
    "    \n",
    "    \n",
    "    #print(maxLength,minLength,maxWidth,minWidth)\n",
    "    length=maxLength-minLength\n",
    "    width=maxWidth-minWidth\n",
    "    if length < width or length<100 or width>50 or length>200:\n",
    "        return True\n",
    "\n",
    "    \n",
    "    return False;\n"
   ]
  },
  {
   "cell_type": "code",
   "execution_count": 32,
   "metadata": {
    "scrolled": true
   },
   "outputs": [
    {
     "name": "stdout",
     "output_type": "stream",
     "text": [
      "4.131775067941526 33.855098724365234 139.88165283203125\n",
      "4.463730176313791 29.5373592376709 131.8468017578125\n"
     ]
    }
   ],
   "source": [
    "#2 with Validation\n",
    "# i is count index, cnt is coordinates of 1 whole object\n",
    "for i,cnt  in enumerate(contours):\n",
    "    \n",
    "    #it is observed that for  most of image , number of coordinates number plate region lies between 300-500   \n",
    "    if(len(cnt)>200):\n",
    "        \n",
    "        #https://opencv-python-tutroals.readthedocs.io/en/latest/py_tutorials/py_imgproc/py_contours/py_contour_features/py_contour_features.html#b-rotated-rectangle\n",
    "        #objectArea=cv2.minAreaRect(cnt)\n",
    "        \n",
    "        \n",
    "        if width_greater_(cnt):\n",
    "                continue;\n",
    "                \n",
    "                \n",
    "        objectArea=cv2.minAreaRect(cnt)\n",
    "        '''\n",
    "        x, y, w, h = cv2.boundingRect(cnt) \n",
    "        license_plate = image[y:y + h, x:x + w]\n",
    "        show(license_plate)\n",
    "        '''\n",
    "        if Validation_And_RatioTest(objectArea) :\n",
    "            \n",
    "            x, y, w, h = cv2.boundingRect(cnt)\n",
    "         \n",
    "            license_plate = image[y:y + h, x:x + w]\n",
    "            show(license_plate)\n",
    "            \n",
    "            cv2.imwrite(\"output2.png\", license_plate) \n",
    "            #bigger = cv2.resize(license_plate, (305, 111))\n",
    "            #show(bigger)\n",
    "            #cv2.imwrite(\"output2.png\", bigger) \n",
    "        "
   ]
  },
  {
   "cell_type": "code",
   "execution_count": null,
   "metadata": {},
   "outputs": [],
   "source": []
  },
  {
   "cell_type": "code",
   "execution_count": null,
   "metadata": {},
   "outputs": [],
   "source": []
  },
  {
   "cell_type": "code",
   "execution_count": null,
   "metadata": {},
   "outputs": [],
   "source": []
  },
  {
   "cell_type": "code",
   "execution_count": null,
   "metadata": {},
   "outputs": [],
   "source": []
  }
 ],
 "metadata": {
  "kernelspec": {
   "display_name": "Python 3",
   "language": "python",
   "name": "python3"
  },
  "language_info": {
   "codemirror_mode": {
    "name": "ipython",
    "version": 3
   },
   "file_extension": ".py",
   "mimetype": "text/x-python",
   "name": "python",
   "nbconvert_exporter": "python",
   "pygments_lexer": "ipython3",
   "version": "3.7.4"
  }
 },
 "nbformat": 4,
 "nbformat_minor": 2
}
