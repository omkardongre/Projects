{
 "cells": [
  {
   "cell_type": "code",
   "execution_count": 2,
   "metadata": {},
   "outputs": [],
   "source": [
    "def show(img):\n",
    "    cv2.imshow(\"Input\",img)\n",
    "    cv2.waitKey(0); \n",
    "    cv2.destroyAllWindows()"
   ]
  },
  {
   "cell_type": "code",
   "execution_count": 3,
   "metadata": {},
   "outputs": [],
   "source": [
    "import numpy as np\n",
    "import cv2\n",
    "from copy import deepcopy\n",
    "import matplotlib.pyplot as plt\n",
    "from PIL import Image\n",
    "#import pytesseract as tess\n"
   ]
  },
  {
   "cell_type": "code",
   "execution_count": 4,
   "metadata": {},
   "outputs": [],
   "source": [
    "\n",
    "img=cv2.imread('scaled_down.jpg')\n",
    "show(img)"
   ]
  },
  {
   "cell_type": "code",
   "execution_count": 5,
   "metadata": {},
   "outputs": [],
   "source": [
    "#for color IMAGE\n",
    "\n",
    "\n",
    "#blurring to remove high frequency component\n",
    "imgBlurred = cv2.GaussianBlur(img, (5,5), 0)\n",
    "show(imgBlurred)\n",
    "\n",
    "#color to greyscale image\n",
    "gray = cv2.cvtColor(imgBlurred, cv2.COLOR_BGR2GRAY)\n",
    "show(gray)\n",
    "\n",
    "#sobel edge detection \n",
    "sobelx = cv2.Sobel(gray,cv2.CV_8U,1,0,ksize=3)\n",
    "show(sobelx)\n",
    "\n",
    "\n",
    "#otsu thresolding\n",
    "ret2,threshold_img = cv2.threshold(sobelx,0,255,cv2.THRESH_BINARY+cv2.THRESH_OTSU)\n",
    "show(threshold_img)\n"
   ]
  },
  {
   "cell_type": "code",
   "execution_count": 41,
   "metadata": {},
   "outputs": [],
   "source": [
    "morph_img_threshold = threshold_img.copy()\n",
    "\n",
    "\n",
    "# rectangular kernel for morphological operation\n",
    "element = cv2.getStructuringElement(shape=cv2.MORPH_RECT, ksize=(20, 10))  #(20,10)\n",
    "\n",
    "#morphological operation(dilation)\n",
    "cv2.morphologyEx(src=threshold_img, op=cv2.MORPH_CLOSE, kernel=element, dst=morph_img_threshold)\n",
    "\n",
    "show(morph_img_threshold)"
   ]
  },
  {
   "cell_type": "code",
   "execution_count": 7,
   "metadata": {},
   "outputs": [],
   "source": [
    "#finding contours is like finding white object from black background.\n",
    "#contours => (x,y) corrdinates of object\n",
    "\n",
    "#Contour Approximation Method \n",
    "# https://opencv-python-tutroals.readthedocs.io/en/latest/py_tutorials/py_imgproc/py_contours/py_contours_begin/py_contours_begin.html\n",
    "# cv2.CHAIN_APPROX_NONE -all the boundary points are stored\n",
    "#cv2.CHAIN_APPROX_SIMPLE -just two end points of that line , saving the memory\n",
    "contours, hierarchy= cv2.findContours(morph_img_threshold,mode=cv2.RETR_EXTERNAL,method=cv2.CHAIN_APPROX_NONE)\n"
   ]
  },
  {
   "cell_type": "code",
   "execution_count": 8,
   "metadata": {},
   "outputs": [],
   "source": [
    "\n",
    "# i is count index, cnt is coordinates of 1 whole object\n",
    "for i,cnt  in enumerate(contours):\n",
    "\n",
    "    \n",
    "    #it is observed that for  most of image , number of coordinates number plate region lies between 300-500   \n",
    "    if(len(cnt)>100):\n",
    "        \n",
    "        #https://opencv-python-tutroals.readthedocs.io/en/latest/py_tutorials/py_imgproc/py_contours/py_contour_features/py_contour_features.html#b-rotated-rectangle\n",
    "        objectArea=cv2.minAreaRect(cnt)\n",
    "        \n",
    "        x, y, w, h = cv2.boundingRect(cnt)\n",
    "\n",
    "        license_plate = img[y:y + h, x:x + w]\n",
    "        show(license_plate)\n",
    "        "
   ]
  },
  {
   "cell_type": "code",
   "execution_count": 43,
   "metadata": {},
   "outputs": [],
   "source": [
    "def Validation_And_RatioTest(objectArea):\n",
    "    (x,y),(width,height),angle=objectArea\n",
    "    aspectRatio=width/height\n",
    "    #print(aspectRatio)\n",
    "    #return True\n",
    "\n",
    "    if aspectRatio<3 or aspectRatio>7:\n",
    "        return False\n",
    "    print(aspectRatio , width,height)\n",
    "\n",
    "    return True"
   ]
  },
  {
   "cell_type": "code",
   "execution_count": 42,
   "metadata": {},
   "outputs": [
    {
     "name": "stdout",
     "output_type": "stream",
     "text": [
      "6.359863891373575 148.28012084960938 23.314983367919922\n",
      "5.5967308963668 127.04479217529297 22.69982147216797\n"
     ]
    }
   ],
   "source": [
    "#2 with Validation\n",
    "# i is count index, cnt is coordinates of 1 whole object\n",
    "for i,cnt  in enumerate(contours):\n",
    "\n",
    "    \n",
    "    #it is observed that for  most of image , number of coordinates number plate region lies between 300-500   \n",
    "    if(len(cnt)>200):\n",
    "        \n",
    "        #https://opencv-python-tutroals.readthedocs.io/en/latest/py_tutorials/py_imgproc/py_contours/py_contour_features/py_contour_features.html#b-rotated-rectangle\n",
    "        objectArea=cv2.minAreaRect(cnt)\n",
    "        if Validation_And_RatioTest(objectArea):\n",
    "            x, y, w, h = cv2.boundingRect(cnt)\n",
    "         \n",
    "            license_plate = img[y:y + h, x:x + w]\n",
    "            show(license_plate)\n",
    "            #cv2.imwrite(\"output1.png\", license_plate) \n",
    "            #bigger = cv2.resize(license_plate, (305, 111))\n",
    "            #show(bigger)\n",
    "            #cv2.imwrite(\"output2.png\", bigger) \n",
    "        "
   ]
  },
  {
   "cell_type": "code",
   "execution_count": 15,
   "metadata": {},
   "outputs": [
    {
     "data": {
      "text/plain": [
       "5.518518518518518"
      ]
     },
     "execution_count": 15,
     "metadata": {},
     "output_type": "execute_result"
    }
   ],
   "source": [
    "149/27"
   ]
  },
  {
   "cell_type": "code",
   "execution_count": 16,
   "metadata": {},
   "outputs": [
    {
     "ename": "NameError",
     "evalue": "name 'image' is not defined",
     "output_type": "error",
     "traceback": [
      "\u001b[0;31m---------------------------------------------------------------------------\u001b[0m",
      "\u001b[0;31mNameError\u001b[0m                                 Traceback (most recent call last)",
      "\u001b[0;32m<ipython-input-16-fdbc870f717b>\u001b[0m in \u001b[0;36m<module>\u001b[0;34m\u001b[0m\n\u001b[0;32m----> 1\u001b[0;31m \u001b[0mbigger\u001b[0m \u001b[0;34m=\u001b[0m \u001b[0mcv2\u001b[0m\u001b[0;34m.\u001b[0m\u001b[0mresize\u001b[0m\u001b[0;34m(\u001b[0m\u001b[0mimage\u001b[0m\u001b[0;34m,\u001b[0m \u001b[0;34m(\u001b[0m\u001b[0;36m1050\u001b[0m\u001b[0;34m,\u001b[0m \u001b[0;36m1610\u001b[0m\u001b[0;34m)\u001b[0m\u001b[0;34m)\u001b[0m\u001b[0;34m\u001b[0m\u001b[0;34m\u001b[0m\u001b[0m\n\u001b[0m",
      "\u001b[0;31mNameError\u001b[0m: name 'image' is not defined"
     ]
    }
   ],
   "source": [
    "bigger = cv2.resize(image, (1050, 1610))"
   ]
  }
 ],
 "metadata": {
  "kernelspec": {
   "display_name": "Python 3",
   "language": "python",
   "name": "python3"
  },
  "language_info": {
   "codemirror_mode": {
    "name": "ipython",
    "version": 3
   },
   "file_extension": ".py",
   "mimetype": "text/x-python",
   "name": "python",
   "nbconvert_exporter": "python",
   "pygments_lexer": "ipython3",
   "version": "3.7.4"
  }
 },
 "nbformat": 4,
 "nbformat_minor": 2
}
